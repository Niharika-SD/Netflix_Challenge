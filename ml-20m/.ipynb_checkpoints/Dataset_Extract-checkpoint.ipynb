{
 "cells": [
  {
   "cell_type": "code",
   "execution_count": 1,
   "metadata": {
    "collapsed": true,
    "deletable": true,
    "editable": true
   },
   "outputs": [],
   "source": [
    "import numpy as np\n",
    "from scipy import sparse\n",
    "%matplotlib notebook\n",
    "\n",
    "import matplotlib.pyplot as plt"
   ]
  },
  {
   "cell_type": "code",
   "execution_count": 4,
   "metadata": {
    "collapsed": false,
    "deletable": true,
    "editable": true
   },
   "outputs": [],
   "source": [
    "import pandas as pd\n",
    "import sys,os,glob\n",
    "import matplotlib.pyplot as plt\n",
    "import matplotlib #only needed to determine Matplotlib version number\n",
    "# Enable inline plotting\n",
    "%matplotlib inline"
   ]
  },
  {
   "cell_type": "code",
   "execution_count": 5,
   "metadata": {
    "collapsed": false,
    "deletable": true,
    "editable": true
   },
   "outputs": [],
   "source": [
    "Location = r'/home/niharika-shimona/Documents/Projects/Netflix_Challenge/ml-100k/Information.csv'\n",
    "df = pd.read_csv(Location,sep=',')"
   ]
  },
  {
   "cell_type": "code",
   "execution_count": 6,
   "metadata": {
    "collapsed": false,
    "deletable": true,
    "editable": true
   },
   "outputs": [
    {
     "name": "stdout",
     "output_type": "stream",
     "text": [
      "1682\n"
     ]
    }
   ],
   "source": [
    "movieID = df['movieID'].unique()\n",
    "print len(movieID)"
   ]
  },
  {
   "cell_type": "code",
   "execution_count": 7,
   "metadata": {
    "collapsed": false,
    "deletable": true,
    "editable": true
   },
   "outputs": [
    {
     "name": "stdout",
     "output_type": "stream",
     "text": [
      "943\n"
     ]
    }
   ],
   "source": [
    "userID =  np.sort(df['userID'].unique())\n",
    "print len(userID)"
   ]
  },
  {
   "cell_type": "code",
   "execution_count": 8,
   "metadata": {
    "collapsed": false,
    "deletable": true,
    "editable": true
   },
   "outputs": [],
   "source": [
    "large_data_matrix =np.zeros((len(userID),len(movieID)))"
   ]
  },
  {
   "cell_type": "code",
   "execution_count": 9,
   "metadata": {
    "collapsed": false,
    "deletable": true,
    "editable": true
   },
   "outputs": [
    {
     "name": "stdout",
     "output_type": "stream",
     "text": [
      "1\n",
      "5.0\n"
     ]
    }
   ],
   "source": [
    "i =0\n",
    "print movieID[i]\n",
    "df_trunc = df[df['movieID']== movieID[i]]\n",
    "large_data_matrix[df_trunc['userID']-1,i] =df_trunc['rating']\n",
    "print large_data_matrix[0,i]"
   ]
  },
  {
   "cell_type": "code",
   "execution_count": 10,
   "metadata": {
    "collapsed": false,
    "deletable": true,
    "editable": true
   },
   "outputs": [
    {
     "name": "stderr",
     "output_type": "stream",
     "text": [
      "/usr/local/lib/python2.7/dist-packages/ipykernel/__main__.py:3: DeprecationWarning: using a non-integer number instead of an integer will result in an error in the future\n",
      "  app.launch_new_instance()\n"
     ]
    }
   ],
   "source": [
    "for i in range(len(movieID)):\n",
    "    df_trunc = df[df['movieID']== movieID[i]]\n",
    "    large_data_matrix[df_trunc['userID']-1,i] =df_trunc['rating'] \n",
    "    "
   ]
  },
  {
   "cell_type": "code",
   "execution_count": 11,
   "metadata": {
    "collapsed": false,
    "deletable": true,
    "editable": true
   },
   "outputs": [],
   "source": [
    "genres = ['Action','Adventure','Animation','Children','Comedy','Crime','Documentary','Drama','Fantasy','Film-Noir','Horror','Musical','Mystery','Romance','Sci-Fi','Thriller','War','Western']"
   ]
  },
  {
   "cell_type": "code",
   "execution_count": 12,
   "metadata": {
    "collapsed": false,
    "deletable": true,
    "editable": true
   },
   "outputs": [
    {
     "name": "stdout",
     "output_type": "stream",
     "text": [
      "505\n",
      "251\n"
     ]
    }
   ],
   "source": [
    "i =[4,15]\n",
    "\n",
    "df_trunc_sm1 = df[df[genres[i[0]]]==1]\n",
    "sm1_movieId = df_trunc_sm1['movieID'].unique()\n",
    "print len(sm1_movieId)\n",
    "data_matrix_sm1 = np.zeros((len(userID),len(sm1_movieId)))\n",
    "\n",
    "df_trunc_sm2 = df[df[genres[i[1]]]==1]\n",
    "sm2_movieId = df_trunc_sm2['movieID'].unique()\n",
    "print len(sm2_movieId)\n",
    "data_matrix_sm2 = np.zeros((len(userID),len(sm2_movieId)))"
   ]
  },
  {
   "cell_type": "code",
   "execution_count": 13,
   "metadata": {
    "collapsed": false,
    "deletable": true,
    "editable": true
   },
   "outputs": [
    {
     "name": "stderr",
     "output_type": "stream",
     "text": [
      "/usr/local/lib/python2.7/dist-packages/ipykernel/__main__.py:3: DeprecationWarning: using a non-integer number instead of an integer will result in an error in the future\n",
      "  app.launch_new_instance()\n",
      "/usr/local/lib/python2.7/dist-packages/ipykernel/__main__.py:7: DeprecationWarning: using a non-integer number instead of an integer will result in an error in the future\n"
     ]
    }
   ],
   "source": [
    "for i in range(len(sm1_movieId)):\n",
    "    df_trunc = df[df['movieID']== sm1_movieId[i]]\n",
    "    data_matrix_sm1[df_trunc['userID']-1,i] =df_trunc['rating'] \n",
    "\n",
    "for i in range(len(sm2_movieId)):\n",
    "    df_trunc = df[df['movieID']== sm2_movieId[i]]\n",
    "    data_matrix_sm2[df_trunc['userID']-1,i] =df_trunc['rating'] "
   ]
  },
  {
   "cell_type": "code",
   "execution_count": 14,
   "metadata": {
    "collapsed": true,
    "deletable": true,
    "editable": true
   },
   "outputs": [],
   "source": [
    "import pickle"
   ]
  },
  {
   "cell_type": "code",
   "execution_count": 15,
   "metadata": {
    "collapsed": false,
    "deletable": true,
    "editable": true
   },
   "outputs": [],
   "source": [
    "import scipy.io as sio\n",
    "pickle.dump(large_data_matrix,open(\"LargeData.p\", \"wb\" ))\n",
    "pickle.dump(data_matrix_sm1,open(\"SmallData1.p\", \"wb\" ))\n",
    "pickle.dump(data_matrix_sm2,open(\"SmallData2.p\", \"wb\"))\n",
    "sio.savemat('data_matrix_sm1.mat',{'data_matrix_sm1': data_matrix_sm1})\n",
    "sio.savemat('data_matrix_sm2.mat',{'data_matrix_sm2': data_matrix_sm2})\n",
    "sio.savemat('large_data_matrix.mat',{'large_data_matrix': large_data_matrix})"
   ]
  },
  {
   "cell_type": "code",
   "execution_count": 16,
   "metadata": {
    "collapsed": false,
    "deletable": true,
    "editable": true
   },
   "outputs": [],
   "source": [
    "from LRMC import lrmc"
   ]
  },
  {
   "cell_type": "code",
   "execution_count": 17,
   "metadata": {
    "collapsed": false,
    "deletable": true,
    "editable": true
   },
   "outputs": [
    {
     "name": "stdout",
     "output_type": "stream",
     "text": [
      "490\n",
      "49\n",
      "10\n",
      "223\n"
     ]
    }
   ],
   "source": [
    "i =[4,6,9,15]\n",
    "cond1 = (df[genres[i[0]]]==1)\n",
    "cond2 = (df[genres[i[1]]]==1)\n",
    "cond3 = (df[genres[i[2]]]==1)\n",
    "cond4 = (df[genres[i[3]]]==1)\n",
    "\n",
    "df_trunc_sm1 = df[ cond1 & ~cond2 & ~cond3 & ~cond4 ]\n",
    "sm1_movieId = df_trunc_sm1['movieID'].unique()\n",
    "print len(sm1_movieId)\n",
    "ldata_matrix_sm1 = np.zeros((len(userID),len(sm1_movieId)))\n",
    "\n",
    "df_trunc_sm2 = df[ ~cond1 & cond2 & ~cond3 & ~cond4]\n",
    "sm2_movieId = df_trunc_sm2['movieID'].unique()\n",
    "print len(sm2_movieId)\n",
    "ldata_matrix_sm2 = np.zeros((len(userID),len(sm2_movieId)))\n",
    "\n",
    "df_trunc_sm3 = df[ ~cond1 & ~cond2 & cond3 & ~cond4]\n",
    "sm3_movieId = df_trunc_sm3['movieID'].unique()\n",
    "print len(sm3_movieId)\n",
    "ldata_matrix_sm3 = np.zeros((len(userID),len(sm3_movieId)))\n",
    "\n",
    "df_trunc_sm4 = df[ ~cond1 & ~cond2 & ~cond3 & cond4 ]\n",
    "sm4_movieId = df_trunc_sm4['movieID'].unique()\n",
    "print len(sm4_movieId)\n",
    "ldata_matrix_sm4 = np.zeros((len(userID),len(sm4_movieId)))\n"
   ]
  },
  {
   "cell_type": "markdown",
   "metadata": {
    "collapsed": true,
    "deletable": true,
    "editable": true
   },
   "source": [
    "\n",
    "    \n",
    "\n"
   ]
  },
  {
   "cell_type": "code",
   "execution_count": 65,
   "metadata": {
    "collapsed": true,
    "deletable": true,
    "editable": true
   },
   "outputs": [],
   "source": [
    "\n"
   ]
  },
  {
   "cell_type": "code",
   "execution_count": 17,
   "metadata": {
    "collapsed": false,
    "deletable": true,
    "editable": true
   },
   "outputs": [],
   "source": [
    "for i in range(len(sm1_movieId)):\n",
    "    df_trunc = df[df['movieID']== sm1_movieId[i]]\n",
    "    ldata_matrix_sm1[df_trunc['userID']-1,i] =df_trunc['rating'] \n",
    "\n",
    "for i in range(len(sm2_movieId)):\n",
    "    df_trunc = df[df['movieID']== sm2_movieId[i]]\n",
    "    ldata_matrix_sm2[df_trunc['userID']-1,i] =df_trunc['rating'] \n",
    "    \n",
    "for i in range(len(sm3_movieId)):\n",
    "    df_trunc = df[df['movieID']== sm3_movieId[i]]\n",
    "    ldata_matrix_sm3[df_trunc['userID']-1,i] =df_trunc['rating'] \n",
    "\n",
    "for i in range(len(sm4_movieId)):\n",
    "    df_trunc = df[df['movieID']== sm4_movieId[i]]\n",
    "    ldata_matrix_sm4[df_trunc['userID']-1,i] =df_trunc['rating'] "
   ]
  },
  {
   "cell_type": "code",
   "execution_count": 18,
   "metadata": {
    "collapsed": true,
    "deletable": true,
    "editable": true
   },
   "outputs": [],
   "source": [
    "sio.savemat('ldata_matrix_sm1.mat',{'ldata_matrix_sm1': ldata_matrix_sm1})\n",
    "sio.savemat('ldata_matrix_sm2.mat',{'ldata_matrix_sm2': ldata_matrix_sm2})\n",
    "sio.savemat('ldata_matrix_sm3.mat',{'ldata_matrix_sm3': ldata_matrix_sm3})\n",
    "sio.savemat('ldata_matrix_sm4.mat',{'ldata_matrix_sm4': ldata_matrix_sm4})"
   ]
  },
  {
   "cell_type": "code",
   "execution_count": 26,
   "metadata": {
    "collapsed": false,
    "deletable": true,
    "editable": true
   },
   "outputs": [],
   "source": [
    "from soft_impute import SoftImpute\n",
    "import random"
   ]
  },
  {
   "cell_type": "code",
   "execution_count": 29,
   "metadata": {
    "collapsed": false,
    "deletable": true,
    "editable": true
   },
   "outputs": [],
   "source": [
    "X1 = data_matrix_sm1\n",
    "X2 = data_matrix_sm2\n",
    "X = X1\n"
   ]
  },
  {
   "cell_type": "code",
   "execution_count": 30,
   "metadata": {
    "collapsed": false,
    "deletable": true,
    "editable": true
   },
   "outputs": [
    {
     "name": "stdout",
     "output_type": "stream",
     "text": [
      "[[  5.   3.   1. ...,  nan  nan  nan]\n",
      " [  4.  nan  nan ...,  nan  nan  nan]\n",
      " [ nan  nan  nan ...,  nan  nan  nan]\n",
      " ..., \n",
      " [  5.  nan  nan ...,  nan  nan  nan]\n",
      " [ nan  nan  nan ...,  nan  nan  nan]\n",
      " [ nan  nan  nan ...,  nan  nan  nan]]\n"
     ]
    },
    {
     "ename": "ValueError",
     "evalue": "shapes (943,700) and (505,700) not aligned: 700 (dim 1) != 505 (dim 0)",
     "output_type": "error",
     "traceback": [
      "\u001b[0;31m---------------------------------------------------------------------------\u001b[0m",
      "\u001b[0;31mValueError\u001b[0m                                Traceback (most recent call last)",
      "\u001b[0;32m<ipython-input-30-0700f3ced204>\u001b[0m in \u001b[0;36m<module>\u001b[0;34m()\u001b[0m\n\u001b[1;32m      2\u001b[0m \u001b[0mX\u001b[0m\u001b[0;34m[\u001b[0m\u001b[0mX\u001b[0m\u001b[0;34m==\u001b[0m\u001b[0;36m0\u001b[0m\u001b[0;34m]\u001b[0m\u001b[0;34m=\u001b[0m\u001b[0;34m[\u001b[0m\u001b[0;34m'nan'\u001b[0m\u001b[0;34m]\u001b[0m\u001b[0;34m\u001b[0m\u001b[0m\n\u001b[1;32m      3\u001b[0m \u001b[0;32mprint\u001b[0m \u001b[0mX\u001b[0m\u001b[0;34m\u001b[0m\u001b[0m\n\u001b[0;32m----> 4\u001b[0;31m \u001b[0mX_hat\u001b[0m \u001b[0;34m=\u001b[0m \u001b[0mclf\u001b[0m\u001b[0;34m.\u001b[0m\u001b[0mfit\u001b[0m\u001b[0;34m(\u001b[0m\u001b[0mX\u001b[0m\u001b[0;34m)\u001b[0m\u001b[0;34m\u001b[0m\u001b[0m\n\u001b[0m\u001b[1;32m      5\u001b[0m \u001b[0;34m\u001b[0m\u001b[0m\n\u001b[1;32m      6\u001b[0m \u001b[0mX_imp\u001b[0m \u001b[0;34m=\u001b[0m \u001b[0mclf\u001b[0m\u001b[0;34m.\u001b[0m\u001b[0mpredict\u001b[0m\u001b[0;34m(\u001b[0m\u001b[0mX\u001b[0m\u001b[0;34m)\u001b[0m\u001b[0;34m\u001b[0m\u001b[0m\n",
      "\u001b[0;32m/home/niharika-shimona/Documents/Projects/Netflix_Challenge/ml-20m/soft_impute.py\u001b[0m in \u001b[0;36mfit\u001b[0;34m(self, X)\u001b[0m\n\u001b[1;32m     69\u001b[0m \u001b[0;34m\u001b[0m\u001b[0m\n\u001b[1;32m     70\u001b[0m             \u001b[0mtmp\u001b[0m \u001b[0;34m=\u001b[0m \u001b[0mDsq\u001b[0m \u001b[0;34m*\u001b[0m \u001b[0mV\u001b[0m\u001b[0;34m.\u001b[0m\u001b[0mT\u001b[0m\u001b[0;34m\u001b[0m\u001b[0m\n\u001b[0;32m---> 71\u001b[0;31m \u001b[0;34m\u001b[0m\u001b[0m\n\u001b[0m\u001b[1;32m     72\u001b[0m             \u001b[0mxhat\u001b[0m \u001b[0;34m=\u001b[0m \u001b[0mU\u001b[0m\u001b[0;34m.\u001b[0m\u001b[0mdot\u001b[0m\u001b[0;34m(\u001b[0m\u001b[0mtmp\u001b[0m\u001b[0;34m)\u001b[0m\u001b[0;34m\u001b[0m\u001b[0m\n\u001b[1;32m     73\u001b[0m \u001b[0;34m\u001b[0m\u001b[0m\n",
      "\u001b[0;31mValueError\u001b[0m: shapes (943,700) and (505,700) not aligned: 700 (dim 1) != 505 (dim 0)"
     ]
    }
   ],
   "source": [
    "clf = SoftImpute(J=200,maxit=5, lambda_=0.6,verbose =True)\n",
    "X[X==0]=['nan']\n",
    "print X\n",
    "X_hat = clf.fit(X)\n",
    "\n",
    "X_imp = clf.predict(X)\n"
   ]
  },
  {
   "cell_type": "markdown",
   "metadata": {
    "collapsed": false,
    "deletable": true,
    "editable": true
   },
   "source": [
    "## print X_imp\n",
    "print np.linalg.matrix_rank(X_imp)"
   ]
  },
  {
   "cell_type": "code",
   "execution_count": 202,
   "metadata": {
    "collapsed": false,
    "deletable": true,
    "editable": true
   },
   "outputs": [],
   "source": [
    "sio.savemat('SI_data_matrix_med.mat',{'SI_data_matrix_med': X_imp})"
   ]
  },
  {
   "cell_type": "code",
   "execution_count": null,
   "metadata": {
    "collapsed": true,
    "deletable": true,
    "editable": true
   },
   "outputs": [],
   "source": []
  },
  {
   "cell_type": "code",
   "execution_count": null,
   "metadata": {
    "collapsed": true,
    "deletable": true,
    "editable": true
   },
   "outputs": [],
   "source": []
  }
 ],
 "metadata": {
  "kernelspec": {
   "display_name": "Python 2",
   "language": "python",
   "name": "python2"
  },
  "language_info": {
   "codemirror_mode": {
    "name": "ipython",
    "version": 2
   },
   "file_extension": ".py",
   "mimetype": "text/x-python",
   "name": "python",
   "nbconvert_exporter": "python",
   "pygments_lexer": "ipython2",
   "version": "2.7.12"
  }
 },
 "nbformat": 4,
 "nbformat_minor": 2
}
