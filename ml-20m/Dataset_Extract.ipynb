{
 "cells": [
  {
   "cell_type": "code",
   "execution_count": 37,
   "metadata": {
    "collapsed": true,
    "deletable": true,
    "editable": true
   },
   "outputs": [],
   "source": [
    "import numpy as np\n",
    "from scipy import sparse"
   ]
  },
  {
   "cell_type": "code",
   "execution_count": 38,
   "metadata": {
    "collapsed": true,
    "deletable": true,
    "editable": true
   },
   "outputs": [],
   "source": [
    "import pandas as pd\n",
    "import sys,os,glob\n",
    "import matplotlib.pyplot as plt\n",
    "import matplotlib #only needed to determine Matplotlib version number\n",
    "# Enable inline plotting\n",
    "%matplotlib inline"
   ]
  },
  {
   "cell_type": "code",
   "execution_count": 39,
   "metadata": {
    "collapsed": false,
    "deletable": true,
    "editable": true
   },
   "outputs": [],
   "source": [
    "Location = r'/home/niharika-shimona/Documents/Projects/Netflix_Challenge/ml-100k/Information.csv'\n",
    "df = pd.read_csv(Location,sep=',')"
   ]
  },
  {
   "cell_type": "code",
   "execution_count": 41,
   "metadata": {
    "collapsed": false,
    "deletable": true,
    "editable": true
   },
   "outputs": [
    {
     "name": "stdout",
     "output_type": "stream",
     "text": [
      "1682\n"
     ]
    }
   ],
   "source": [
    "movieID = df['movieID'].unique()\n",
    "print len(movieID)"
   ]
  },
  {
   "cell_type": "code",
   "execution_count": 42,
   "metadata": {
    "collapsed": false,
    "deletable": true,
    "editable": true
   },
   "outputs": [
    {
     "name": "stdout",
     "output_type": "stream",
     "text": [
      "943\n"
     ]
    }
   ],
   "source": [
    "userID =  np.sort(df['userID'].unique())\n",
    "print len(userID)"
   ]
  },
  {
   "cell_type": "code",
   "execution_count": 43,
   "metadata": {
    "collapsed": false,
    "deletable": true,
    "editable": true
   },
   "outputs": [],
   "source": [
    "large_data_matrix =np.zeros((len(userID),len(movieID)))"
   ]
  },
  {
   "cell_type": "code",
   "execution_count": 46,
   "metadata": {
    "collapsed": false,
    "deletable": true,
    "editable": true
   },
   "outputs": [
    {
     "name": "stdout",
     "output_type": "stream",
     "text": [
      "1\n",
      "5.0\n"
     ]
    }
   ],
   "source": [
    "i =0\n",
    "print movieID[i]\n",
    "df_trunc = df[df['movieID']== movieID[i]]\n",
    "large_data_matrix[df_trunc['userID']-1,i] =df_trunc['rating']\n",
    "print large_data_matrix[0,i]"
   ]
  },
  {
   "cell_type": "code",
   "execution_count": 47,
   "metadata": {
    "collapsed": false,
    "deletable": true,
    "editable": true
   },
   "outputs": [],
   "source": [
    "for i in range(len(movieID)):\n",
    "    df_trunc = df[df['movieID']== movieID[i]]\n",
    "    large_data_matrix[df_trunc['userID']-1,i] =df_trunc['rating'] \n",
    "    "
   ]
  },
  {
   "cell_type": "code",
   "execution_count": 48,
   "metadata": {
    "collapsed": false,
    "deletable": true,
    "editable": true
   },
   "outputs": [],
   "source": [
    "genres = ['Action','Adventure','Animation','Children','Comedy','Crime','Documentary','Drama','Fantasy','Film-Noir','Horror','Musical','Mystery','Romance','Sci-Fi','Thriller','War','Western']"
   ]
  },
  {
   "cell_type": "code",
   "execution_count": 53,
   "metadata": {
    "collapsed": false,
    "deletable": true,
    "editable": true
   },
   "outputs": [
    {
     "name": "stdout",
     "output_type": "stream",
     "text": [
      "505\n",
      "251\n"
     ]
    }
   ],
   "source": [
    "i =[4,15]\n",
    "\n",
    "df_trunc_sm1 = df[df[genres[i[0]]]==1]\n",
    "sm1_movieId = df_trunc_sm1['movieID'].unique()\n",
    "print len(sm1_movieId)\n",
    "data_matrix_sm1 = np.zeros((len(userID),len(sm1_movieId)))\n",
    "\n",
    "df_trunc_sm2 = df[df[genres[i[1]]]==1]\n",
    "sm2_movieId = df_trunc_sm2['movieID'].unique()\n",
    "print len(sm2_movieId)\n",
    "data_matrix_sm2 = np.zeros((len(userID),len(sm2_movieId)))"
   ]
  },
  {
   "cell_type": "code",
   "execution_count": 55,
   "metadata": {
    "collapsed": false,
    "deletable": true,
    "editable": true
   },
   "outputs": [],
   "source": [
    "for i in range(len(sm1_movieId)):\n",
    "    df_trunc = df[df['movieID']== sm1_movieId[i]]\n",
    "    data_matrix_sm1[df_trunc['userID']-1,i] =df_trunc['rating'] \n",
    "\n",
    "for i in range(len(sm2_movieId)):\n",
    "    df_trunc = df[df['movieID']== sm2_movieId[i]]\n",
    "    data_matrix_sm2[df_trunc['userID']-1,i] =df_trunc['rating'] "
   ]
  },
  {
   "cell_type": "code",
   "execution_count": 56,
   "metadata": {
    "collapsed": true,
    "deletable": true,
    "editable": true
   },
   "outputs": [],
   "source": [
    "import pickle"
   ]
  },
  {
   "cell_type": "code",
   "execution_count": 57,
   "metadata": {
    "collapsed": false,
    "deletable": true,
    "editable": true
   },
   "outputs": [],
   "source": [
    "pickle.dump(large_data_matrix,open(\"LargeData.p\", \"wb\" ))\n",
    "pickle.dump(data_matrix_sm1,open(\"SmallData1.p\", \"wb\" ))\n",
    "pickle.dump(data_matrix_sm2,open(\"SmallData2.p\", \"wb\" ))\n"
   ]
  },
  {
   "cell_type": "code",
   "execution_count": null,
   "metadata": {
    "collapsed": true,
    "deletable": true,
    "editable": true
   },
   "outputs": [],
   "source": []
  }
 ],
 "metadata": {
  "kernelspec": {
   "display_name": "Python 2",
   "language": "python",
   "name": "python2"
  },
  "language_info": {
   "codemirror_mode": {
    "name": "ipython",
    "version": 2
   },
   "file_extension": ".py",
   "mimetype": "text/x-python",
   "name": "python",
   "nbconvert_exporter": "python",
   "pygments_lexer": "ipython2",
   "version": "2.7.12"
  }
 },
 "nbformat": 4,
 "nbformat_minor": 2
}
