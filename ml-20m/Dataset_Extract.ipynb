{
 "cells": [
  {
   "cell_type": "code",
   "execution_count": 3,
   "metadata": {
    "collapsed": true,
    "deletable": true,
    "editable": true
   },
   "outputs": [],
   "source": [
    "import numpy as np\n",
    "from scipy import sparse"
   ]
  },
  {
   "cell_type": "code",
   "execution_count": 4,
   "metadata": {
    "collapsed": true,
    "deletable": true,
    "editable": true
   },
   "outputs": [],
   "source": [
    "import pandas as pd\n",
    "import sys,os,glob\n",
    "import matplotlib.pyplot as plt\n",
    "import matplotlib #only needed to determine Matplotlib version number\n",
    "# Enable inline plotting\n",
    "%matplotlib inline"
   ]
  },
  {
   "cell_type": "code",
   "execution_count": 52,
   "metadata": {
    "collapsed": false,
    "deletable": true,
    "editable": true
   },
   "outputs": [],
   "source": [
    "Location = r'/home/niharika-shimona/Documents/Projects/Netflix_Challenge/ml-100k/Information.csv'\n",
    "df = pd.read_csv(Location,sep=',')"
   ]
  },
  {
   "cell_type": "code",
   "execution_count": 6,
   "metadata": {
    "collapsed": false,
    "deletable": true,
    "editable": true
   },
   "outputs": [
    {
     "name": "stdout",
     "output_type": "stream",
     "text": [
      "1682\n"
     ]
    }
   ],
   "source": [
    "movieID = df['movieID'].unique()\n",
    "print len(movieID)"
   ]
  },
  {
   "cell_type": "code",
   "execution_count": 78,
   "metadata": {
    "collapsed": false,
    "deletable": true,
    "editable": true
   },
   "outputs": [
    {
     "name": "stdout",
     "output_type": "stream",
     "text": [
      "943\n"
     ]
    }
   ],
   "source": [
    "userID =  np.sort(df['userID'].unique())\n",
    "print len(userID)"
   ]
  },
  {
   "cell_type": "code",
   "execution_count": 8,
   "metadata": {
    "collapsed": false,
    "deletable": true,
    "editable": true
   },
   "outputs": [],
   "source": [
    "large_data_matrix =np.zeros((len(userID),len(movieID)))"
   ]
  },
  {
   "cell_type": "code",
   "execution_count": 9,
   "metadata": {
    "collapsed": false,
    "deletable": true,
    "editable": true
   },
   "outputs": [
    {
     "name": "stdout",
     "output_type": "stream",
     "text": [
      "1\n",
      "5.0\n"
     ]
    }
   ],
   "source": [
    "i =0\n",
    "print movieID[i]\n",
    "df_trunc = df[df['movieID']== movieID[i]]\n",
    "large_data_matrix[df_trunc['userID']-1,i] =df_trunc['rating']\n",
    "print large_data_matrix[0,i]"
   ]
  },
  {
   "cell_type": "code",
   "execution_count": 10,
   "metadata": {
    "collapsed": false,
    "deletable": true,
    "editable": true
   },
   "outputs": [],
   "source": [
    "for i in range(len(movieID)):\n",
    "    df_trunc = df[df['movieID']== movieID[i]]\n",
    "    large_data_matrix[df_trunc['userID']-1,i] =df_trunc['rating'] \n",
    "    "
   ]
  },
  {
   "cell_type": "code",
   "execution_count": 11,
   "metadata": {
    "collapsed": false,
    "deletable": true,
    "editable": true
   },
   "outputs": [],
   "source": [
    "genres = ['Action','Adventure','Animation','Children','Comedy','Crime','Documentary','Drama','Fantasy','Film-Noir','Horror','Musical','Mystery','Romance','Sci-Fi','Thriller','War','Western']"
   ]
  },
  {
   "cell_type": "code",
   "execution_count": 12,
   "metadata": {
    "collapsed": false,
    "deletable": true,
    "editable": true
   },
   "outputs": [
    {
     "name": "stdout",
     "output_type": "stream",
     "text": [
      "505\n",
      "251\n"
     ]
    }
   ],
   "source": [
    "i =[4,15]\n",
    "\n",
    "df_trunc_sm1 = df[df[genres[i[0]]]==1]\n",
    "sm1_movieId = df_trunc_sm1['movieID'].unique()\n",
    "print len(sm1_movieId)\n",
    "data_matrix_sm1 = np.zeros((len(userID),len(sm1_movieId)))\n",
    "\n",
    "df_trunc_sm2 = df[df[genres[i[1]]]==1]\n",
    "sm2_movieId = df_trunc_sm2['movieID'].unique()\n",
    "print len(sm2_movieId)\n",
    "data_matrix_sm2 = np.zeros((len(userID),len(sm2_movieId)))"
   ]
  },
  {
   "cell_type": "code",
   "execution_count": 13,
   "metadata": {
    "collapsed": false,
    "deletable": true,
    "editable": true
   },
   "outputs": [],
   "source": [
    "for i in range(len(sm1_movieId)):\n",
    "    df_trunc = df[df['movieID']== sm1_movieId[i]]\n",
    "    data_matrix_sm1[df_trunc['userID']-1,i] =df_trunc['rating'] \n",
    "\n",
    "for i in range(len(sm2_movieId)):\n",
    "    df_trunc = df[df['movieID']== sm2_movieId[i]]\n",
    "    data_matrix_sm2[df_trunc['userID']-1,i] =df_trunc['rating'] "
   ]
  },
  {
   "cell_type": "code",
   "execution_count": 14,
   "metadata": {
    "collapsed": true,
    "deletable": true,
    "editable": true
   },
   "outputs": [],
   "source": [
    "import pickle"
   ]
  },
  {
   "cell_type": "code",
   "execution_count": 15,
   "metadata": {
    "collapsed": false,
    "deletable": true,
    "editable": true
   },
   "outputs": [],
   "source": [
    "import scipy.io as sio\n",
    "pickle.dump(large_data_matrix,open(\"LargeData.p\", \"wb\" ))\n",
    "pickle.dump(data_matrix_sm1,open(\"SmallData1.p\", \"wb\" ))\n",
    "pickle.dump(data_matrix_sm2,open(\"SmallData2.p\", \"wb\"))\n",
    "sio.savemat('data_matrix_sm1.mat',{'data_matrix_sm1': data_matrix_sm1})\n",
    "sio.savemat('data_matrix_sm2.mat',{'data_matrix_sm2': data_matrix_sm2})\n",
    "sio.savemat('large_data_matrix.mat',{'large_data_matrix': large_data_matrix})"
   ]
  },
  {
   "cell_type": "code",
   "execution_count": 16,
   "metadata": {
    "collapsed": false,
    "deletable": true,
    "editable": true
   },
   "outputs": [],
   "source": [
    "from LRMC import lrmc"
   ]
  },
  {
   "cell_type": "code",
   "execution_count": 82,
   "metadata": {
    "collapsed": false,
    "deletable": true,
    "editable": true
   },
   "outputs": [
    {
     "name": "stdout",
     "output_type": "stream",
     "text": [
      "390\n",
      "571\n",
      "55\n",
      "159\n"
     ]
    }
   ],
   "source": [
    "i =[4,7,10,15]\n",
    "cond1 = (df[genres[i[0]]]==1)\n",
    "cond2 = (df[genres[i[1]]]==1)\n",
    "cond3 = (df[genres[i[2]]]==1)\n",
    "cond4 = (df[genres[i[3]]]==1)\n",
    "\n",
    "df_trunc_sm1 = df[ cond1 & ~cond2 & ~cond3 & ~cond4 ]\n",
    "sm1_movieId = df_trunc_sm1['movieID'].unique()\n",
    "print len(sm1_movieId)\n",
    "ldata_matrix_sm1 = np.zeros((len(userID),len(sm1_movieId)))\n",
    "\n",
    "df_trunc_sm2 = df[ ~cond1 & cond2 & ~cond3 & ~cond4]\n",
    "sm2_movieId = df_trunc_sm2['movieID'].unique()\n",
    "print len(sm2_movieId)\n",
    "ldata_matrix_sm2 = np.zeros((len(userID),len(sm2_movieId)))\n",
    "\n",
    "df_trunc_sm3 = df[ ~cond1 & ~cond2 & cond3 & ~cond4]\n",
    "sm3_movieId = df_trunc_sm3['movieID'].unique()\n",
    "print len(sm3_movieId)\n",
    "ldata_matrix_sm3 = np.zeros((len(userID),len(sm3_movieId)))\n",
    "\n",
    "df_trunc_sm4 = df[ ~cond1 & ~cond2 & ~cond3 & cond4 ]\n",
    "sm4_movieId = df_trunc_sm4['movieID'].unique()\n",
    "print len(sm4_movieId)\n",
    "ldata_matrix_sm4 = np.zeros((len(userID),len(sm4_movieId)))\n"
   ]
  },
  {
   "cell_type": "markdown",
   "metadata": {
    "collapsed": true,
    "deletable": true,
    "editable": true
   },
   "source": [
    "\n",
    "    \n",
    "\n"
   ]
  },
  {
   "cell_type": "code",
   "execution_count": 65,
   "metadata": {
    "collapsed": true,
    "deletable": true,
    "editable": true
   },
   "outputs": [],
   "source": [
    "\n"
   ]
  },
  {
   "cell_type": "code",
   "execution_count": 83,
   "metadata": {
    "collapsed": false
   },
   "outputs": [],
   "source": [
    "for i in range(len(sm1_movieId)):\n",
    "    df_trunc = df[df['movieID']== sm1_movieId[i]]\n",
    "    ldata_matrix_sm1[df_trunc['userID']-1,i] =df_trunc['rating'] \n",
    "\n",
    "for i in range(len(sm2_movieId)):\n",
    "    df_trunc = df[df['movieID']== sm2_movieId[i]]\n",
    "    ldata_matrix_sm2[df_trunc['userID']-1,i] =df_trunc['rating'] \n",
    "    \n",
    "for i in range(len(sm3_movieId)):\n",
    "    df_trunc = df[df['movieID']== sm3_movieId[i]]\n",
    "    ldata_matrix_sm3[df_trunc['userID']-1,i] =df_trunc['rating'] \n",
    "\n",
    "for i in range(len(sm4_movieId)):\n",
    "    df_trunc = df[df['movieID']== sm4_movieId[i]]\n",
    "    ldata_matrix_sm4[df_trunc['userID']-1,i] =df_trunc['rating'] "
   ]
  },
  {
   "cell_type": "code",
   "execution_count": 84,
   "metadata": {
    "collapsed": true
   },
   "outputs": [],
   "source": [
    "sio.savemat('ldata_matrix_sm1.mat',{'ldata_matrix_sm1': ldata_matrix_sm1})\n",
    "sio.savemat('ldata_matrix_sm2.mat',{'ldata_matrix_sm2': ldata_matrix_sm2})\n",
    "sio.savemat('ldata_matrix_sm3.mat',{'ldata_matrix_sm3': ldata_matrix_sm3})\n",
    "sio.savemat('ldata_matrix_sm4.mat',{'ldata_matrix_sm4': ldata_matrix_sm4})"
   ]
  },
  {
   "cell_type": "code",
   "execution_count": null,
   "metadata": {
    "collapsed": true
   },
   "outputs": [],
   "source": []
  }
 ],
 "metadata": {
  "kernelspec": {
   "display_name": "Python 2",
   "language": "python",
   "name": "python2"
  },
  "language_info": {
   "codemirror_mode": {
    "name": "ipython",
    "version": 2
   },
   "file_extension": ".py",
   "mimetype": "text/x-python",
   "name": "python",
   "nbconvert_exporter": "python",
   "pygments_lexer": "ipython2",
   "version": "2.7.12"
  }
 },
 "nbformat": 4,
 "nbformat_minor": 2
}
