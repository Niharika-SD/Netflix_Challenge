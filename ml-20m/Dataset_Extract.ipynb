{
 "cells": [
  {
   "cell_type": "code",
   "execution_count": 63,
   "metadata": {
    "collapsed": true
   },
   "outputs": [],
   "source": [
    "import numpy as np\n",
    "from scipy import sparse"
   ]
  },
  {
   "cell_type": "code",
   "execution_count": 4,
   "metadata": {
    "collapsed": true
   },
   "outputs": [],
   "source": [
    "import pandas as pd\n",
    "import sys,os,glob\n",
    "import matplotlib.pyplot as plt\n",
    "import matplotlib #only needed to determine Matplotlib version number\n",
    "# Enable inline plotting\n",
    "%matplotlib inline"
   ]
  },
  {
   "cell_type": "code",
   "execution_count": 10,
   "metadata": {
    "collapsed": false
   },
   "outputs": [],
   "source": [
    "Location = r'/home/niharika-shimona/Documents/Projects/Netflix_Challenge/ml-20m/movies_genre.csv'\n",
    "df = pd.read_csv(Location,sep=',')"
   ]
  },
  {
   "cell_type": "code",
   "execution_count": 26,
   "metadata": {
    "collapsed": false
   },
   "outputs": [
    {
     "name": "stdout",
     "output_type": "stream",
     "text": [
      "26744\n"
     ]
    }
   ],
   "source": [
    "movieID = df['movieId'].unique()\n",
    "print len(movieID)"
   ]
  },
  {
   "cell_type": "code",
   "execution_count": 27,
   "metadata": {
    "collapsed": false
   },
   "outputs": [
    {
     "name": "stdout",
     "output_type": "stream",
     "text": [
      "138493\n"
     ]
    }
   ],
   "source": [
    "userID =  np.sort(df['userId'].unique())\n",
    "print len(userID)"
   ]
  },
  {
   "cell_type": "code",
   "execution_count": 32,
   "metadata": {
    "collapsed": false
   },
   "outputs": [],
   "source": [
    "data_matrix =np.zeros((len(userID),len(movieID)))"
   ]
  },
  {
   "cell_type": "code",
   "execution_count": 54,
   "metadata": {
    "collapsed": false
   },
   "outputs": [
    {
     "name": "stdout",
     "output_type": "stream",
     "text": [
      "1\n",
      "4.5\n"
     ]
    }
   ],
   "source": [
    "i =0\n",
    "print movieID[i]\n",
    "df_trunc = df[df['movieId']== movieID[i]]\n",
    "data_matrix[df_trunc['userId']-1,i] =df_trunc['rating']\n",
    "print data_matrix[93598,i]"
   ]
  },
  {
   "cell_type": "code",
   "execution_count": 59,
   "metadata": {
    "collapsed": false
   },
   "outputs": [],
   "source": [
    "for i in range(len(movieID)):\n",
    "    df_trunc = df[df['movieId']== movieID[i]]\n",
    "    data_matrix[df_trunc['userId']-1,i] =df_trunc['rating'] \n",
    "    "
   ]
  },
  {
   "cell_type": "code",
   "execution_count": 69,
   "metadata": {
    "collapsed": false
   },
   "outputs": [],
   "source": [
    "genres = ['Action','Adventure','Animation','Children','Comedy','Crime','Documentary','Drama','Fantasy','Film-Noir','Horror','Musical','Mystery','Romance','Sci-Fi','Thriller','War','Western']"
   ]
  },
  {
   "cell_type": "code",
   "execution_count": 72,
   "metadata": {
    "collapsed": false
   },
   "outputs": [
    {
     "name": "stdout",
     "output_type": "stream",
     "text": [
      "       Unnamed: 0  movieId  userId  rating   timestamp        title  \\\n",
      "99590       99591        6   80734     3.0   857405447  Heat (1995)   \n",
      "99591       99592        6   91317     5.0  1359165799  Heat (1995)   \n",
      "99592       99593        6   31066     4.0  1098734764  Heat (1995)   \n",
      "99593       99594        6   58190     3.5  1109531227  Heat (1995)   \n",
      "99594       99595        6   46679     4.0   849094059  Heat (1995)   \n",
      "\n",
      "                      genres  \n",
      "99590  Action|Crime|Thriller  \n",
      "99591  Action|Crime|Thriller  \n",
      "99592  Action|Crime|Thriller  \n",
      "99593  Action|Crime|Thriller  \n",
      "99594  Action|Crime|Thriller  \n"
     ]
    }
   ],
   "source": [
    "i =0\n",
    "df_trunc = df[df['genres'].str.contains(genres[i])]\n",
    "print df_trunc.head()"
   ]
  },
  {
   "cell_type": "code",
   "execution_count": null,
   "metadata": {
    "collapsed": true
   },
   "outputs": [],
   "source": []
  }
 ],
 "metadata": {
  "kernelspec": {
   "display_name": "Python 2",
   "language": "python",
   "name": "python2"
  },
  "language_info": {
   "codemirror_mode": {
    "name": "ipython",
    "version": 2
   },
   "file_extension": ".py",
   "mimetype": "text/x-python",
   "name": "python",
   "nbconvert_exporter": "python",
   "pygments_lexer": "ipython2",
   "version": "2.7.12"
  }
 },
 "nbformat": 4,
 "nbformat_minor": 2
}
